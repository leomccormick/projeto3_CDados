{
 "cells": [
  {
   "cell_type": "markdown",
   "id": "4a2fee4e",
   "metadata": {},
   "source": [
    "# Insper: Profa Maria Kelly Venezuela\n",
    "\n",
    "# Ciência dos dados: Engenharias\n",
    "\n",
    "# Projeto 3: PNADC - Uso dos microdados de 2023\n",
    "\n",
    "# Grupo: Danilo Ramos, Leonardo Veras e Thomas Ganut\n",
    "___\n"
   ]
  },
  {
   "cell_type": "code",
   "execution_count": 2,
   "id": "cbb82a86",
   "metadata": {},
   "outputs": [],
   "source": [
    "import pandas as pd"
   ]
  },
  {
   "cell_type": "markdown",
   "id": "3b5e570c",
   "metadata": {},
   "source": [
    "___\n",
    "## A. Introdução"
   ]
  },
  {
   "cell_type": "markdown",
   "id": "ad228c54",
   "metadata": {},
   "source": [
    "### Objetivo escolhido:\n",
    "O ***target*** escolhido pelo grupo é \"Qual era o rendimento bruto/retirada mensal que ... recebia/fazia normalmente nesse trabalho? (valor em dinheiro)\" (variável V403312 - quantitativa).\n",
    "\n",
    "O grupo dividiu as ***features*** escolhidas para o projeto em três temas, sendo estes \"Classe social\", \"Área de atuação\" e \"Classificações gerais\".\n",
    "\n",
    "#### Classe social\n",
    "- Cor ou raça (V2010)\n",
    "- ... sabe ler e escrever? (V3001)\n",
    "- A escola que ... frequenta é de (V3002A)\n",
    "- Nível de instrução mais elevado alcançado (pessoas de 5 anos ou mais de idade) padronizado para o Ensino fundamental -  SISTEMA DE 9 ANOS (VD3004)\n",
    "\n",
    "#### Área de atuação\n",
    "- Na semana de ... a ... (semana de  referência), ... tinha pelo menos um sócio que trabalhava nesse negócio/empresa? (V4017)\n",
    "- Então onde ... exercia normalmente esse trabalho? (V4022)\n",
    "- Nesse trabalho, ... tinha carteira de trabalho assinada? (V4029)\n",
    "\n",
    "#### Classificações gerais\n",
    "- Unidade da Federação (UF)\n",
    "- Tipo de área (V1023)\n",
    "- Idade do morador na data de referência (V2009)"
   ]
  },
  {
   "cell_type": "markdown",
   "id": "47bfb33c",
   "metadata": {},
   "source": [
    "___\n",
    "# Leitura da base de dados - PNADC 2023:"
   ]
  },
  {
   "cell_type": "code",
   "execution_count": 4,
   "id": "84ed2251",
   "metadata": {
    "scrolled": true
   },
   "outputs": [],
   "source": [
    "# PRIMEIRO TRIMESTRE DE 2023\n",
    "url1 = 'https://www.dropbox.com/scl/fi/fv6fli3jyuinijotw9v6b/pnad23_1.csv?rlkey=1nq6xfd1fn7guz4nyhvwslp7p&st=qpr7odgu&dl=1'\n",
    "\n",
    "# SEGUNDO TRIMESTRE DE 2023\n",
    "url2 = 'https://www.dropbox.com/scl/fi/kvhduq8ocy2o1yj4l0ycc/pnad23_2.csv?rlkey=ni8nhwkv84xg59mp1cnd4gsto&st=yr8uiq5k&dl=1'\n",
    "\n",
    "# TERCEIRO TRIMESTRE DE 2023\n",
    "url3 = 'https://www.dropbox.com/scl/fi/ol5m8stpd50e7endyal5d/pnad23_3.csv?rlkey=kik14kn4wqbcbdsmgq44z2i4s&st=9reoxjte&dl=1'\n",
    "\n",
    "# QUARTO TRIMESTRE DE 2023\n",
    "url4 = 'https://www.dropbox.com/scl/fi/ksca0i4ybo6hno738pjcw/pnad23_4.csv?rlkey=e186niofxka6lmmlbkefr94zw&st=wntcupiu&dl=1'"
   ]
  },
  {
   "cell_type": "code",
   "execution_count": null,
   "id": "c258bbe8",
   "metadata": {},
   "outputs": [],
   "source": [
    "pnad23_1_all = pd.read_csv(url1)\n",
    "pnad23_1_all"
   ]
  }
 ],
 "metadata": {
  "kernelspec": {
   "display_name": "base",
   "language": "python",
   "name": "python3"
  },
  "language_info": {
   "codemirror_mode": {
    "name": "ipython",
    "version": 3
   },
   "file_extension": ".py",
   "mimetype": "text/x-python",
   "name": "python",
   "nbconvert_exporter": "python",
   "pygments_lexer": "ipython3",
   "version": "3.11.5"
  }
 },
 "nbformat": 4,
 "nbformat_minor": 5
}
